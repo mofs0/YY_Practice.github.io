{
 "cells": [
  {
   "cell_type": "markdown",
   "id": "03c01b99-0193-4e9d-9a1c-5d201b775db0",
   "metadata": {},
   "source": [
    "# ResNet论文的复现和解析"
   ]
  },
  {
   "cell_type": "markdown",
   "id": "7fa320df-bab6-4778-a56f-fd69c0c78a5c",
   "metadata": {},
   "source": [
    "## 简述"
   ]
  },
  {
   "cell_type": "markdown",
   "id": "3c9b7a82-1b22-4ae6-af71-566e692e556b",
   "metadata": {},
   "source": [
    "ResNet (Residual Networks) 是由何凯明等人在 2015 年提出的深度残差网络，解决了深层神经网络训练困难的问题，在 ImageNet 比赛中取得了突破性成果。\n",
    "本文将一步步解析并复现 ResNet 的核心结构。"
   ]
  },
  {
   "cell_type": "markdown",
   "id": "b01a8aff-9c07-418b-88ca-393259424382",
   "metadata": {
    "jp-MarkdownHeadingCollapsed": true
   },
   "source": [
    "## 1.环境配置"
   ]
  },
  {
   "cell_type": "code",
   "execution_count": 1,
   "id": "9ae916ce-e52a-4dbb-83d7-6e2facddefa2",
   "metadata": {},
   "outputs": [
    {
     "name": "stdout",
     "output_type": "stream",
     "text": [
      "使用设备: cpu\n"
     ]
    }
   ],
   "source": [
    "import torch\n",
    "import torch.nn as nn\n",
    "import torch.optim as optim\n",
    "import torch.nn.functional as F\n",
    "from torch.utils.data import DataLoader\n",
    "from torchvision import datasets, transforms\n",
    "import matplotlib.pyplot as plt\n",
    "import numpy as np\n",
    "import time\n",
    "\n",
    "# 设置随机种子\n",
    "torch.manual_seed(42)\n",
    "np.random.seed(42)\n",
    "\n",
    "# 查看是否有GPU可用\n",
    "device = torch.device(\"cuda\" if torch.cuda.is_available() else \"cpu\")\n",
    "print(f\"使用设备: {device}\")"
   ]
  },
  {
   "cell_type": "markdown",
   "id": "a747ebfc-2a7d-414c-a6ba-37cb78e70ac6",
   "metadata": {
    "jp-MarkdownHeadingCollapsed": true
   },
   "source": [
    "## 2.ResNet核心思想逻辑分析"
   ]
  },
  {
   "cell_type": "markdown",
   "id": "baaa36ef-3621-47d5-ad86-238e889057d9",
   "metadata": {},
   "source": [
    "ResNet 的核心创新是残差块 (Residual Block)，解决了深层网络中的梯度消失和性能退化问题。  \n",
    "\n",
    "传统网络: H(x)=F(x)  \n",
    "\n",
    "ResNet 残差网络：\\(H(x) = F(x) + x  \n",
    "\n",
    "其中F(x)是残差函数,表示需要学习的残差部分,x为输入的恒等映射  \n",
    "\n",
    "当一个网络的深度很深时,让F(x) = 0比学习一个复杂的H(x)更加容易,这样可以使网络更加容易得到优化  \n",
    "\n"
   ]
  },
  {
   "cell_type": "markdown",
   "id": "95dfe2b6-5274-4532-9afd-b1ff607a27b6",
   "metadata": {
    "jp-MarkdownHeadingCollapsed": true
   },
   "source": [
    "## 3.残差块(Residual Block)实现"
   ]
  },
  {
   "cell_type": "markdown",
   "id": "38f4fe53-316e-4ea0-89df-f88acb0380e5",
   "metadata": {},
   "source": [
    "根据论文,ResNet的残差有两种形式:  \n",
    "\n",
    "基本块(Basic Block): 用于ResNet-18和ResNet-34  \n",
    "\n",
    "瓶颈块(Bottle Neck): 用于更加深的网络(ResNet-50,101,152)  "
   ]
  },
  {
   "cell_type": "code",
   "execution_count": 2,
   "id": "e3c076e2-8c17-4f3f-ba80-187e47843494",
   "metadata": {},
   "outputs": [],
   "source": [
    "#基本残差块\n",
    "class BasicBlock(nn.Module):\n",
    "    expansion = 1  # 输出通道数扩展倍数\n",
    "    \n",
    "    def __init__(self, in_channels, out_channels, stride=1, downsample=None):\n",
    "        super(BasicBlock, self).__init__()\n",
    "        # 第一个卷积层\n",
    "        self.conv1 = nn.Conv2d(\n",
    "            in_channels, out_channels, kernel_size=3, stride=stride, \n",
    "            padding=1, bias=False\n",
    "        )\n",
    "        self.bn1 = nn.BatchNorm2d(out_channels)\n",
    "        \n",
    "        # 第二个卷积层\n",
    "        self.conv2 = nn.Conv2d(\n",
    "            out_channels, out_channels, kernel_size=3, stride=1, \n",
    "            padding=1, bias=False\n",
    "        )\n",
    "        self.bn2 = nn.BatchNorm2d(out_channels)\n",
    "        \n",
    "        self.relu = nn.ReLU(inplace=True)\n",
    "        self.downsample = downsample  # 用于调整输入x的维度，使其能与F(x)相加\n",
    "    \n",
    "    def forward(self, x):\n",
    "        identity = x  # 保存输入，用于后续的恒等映射\n",
    "        \n",
    "        # 第一个卷积操作\n",
    "        out = self.conv1(x)\n",
    "        out = self.bn1(out)\n",
    "        out = self.relu(out)\n",
    "        \n",
    "        # 第二个卷积操作\n",
    "        out = self.conv2(out)\n",
    "        out = self.bn2(out)\n",
    "        \n",
    "        # 如果需要下采样（维度不匹配时）\n",
    "        if self.downsample is not None:\n",
    "            identity = self.downsample(x)\n",
    "        \n",
    "        # 残差连接：输出 + 恒等映射\n",
    "        out += identity\n",
    "        out = self.relu(out)\n",
    "        \n",
    "        return out"
   ]
  },
  {
   "cell_type": "code",
   "execution_count": 3,
   "id": "608eb8bd-4ba7-4b36-8431-43e51e6d6019",
   "metadata": {},
   "outputs": [],
   "source": [
    "#瓶颈残差块\n",
    "class Bottleneck(nn.Module):\n",
    "    expansion = 4  # 输出通道数扩展倍数\n",
    "    \n",
    "    def __init__(self, in_channels, out_channels, stride=1, downsample=None):\n",
    "        super(Bottleneck, self).__init__()\n",
    "        # 1x1卷积，减少通道数\n",
    "        self.conv1 = nn.Conv2d(\n",
    "            in_channels, out_channels, kernel_size=1, bias=False\n",
    "        )\n",
    "        self.bn1 = nn.BatchNorm2d(out_channels)\n",
    "        \n",
    "        # 3x3卷积，主要的特征提取\n",
    "        self.conv2 = nn.Conv2d(\n",
    "            out_channels, out_channels, kernel_size=3, stride=stride,\n",
    "            padding=1, bias=False\n",
    "        )\n",
    "        self.bn2 = nn.BatchNorm2d(out_channels)\n",
    "        \n",
    "        # 1x1卷积，恢复并扩展通道数\n",
    "        self.conv3 = nn.Conv2d(\n",
    "            out_channels, out_channels * self.expansion, kernel_size=1, bias=False\n",
    "        )\n",
    "        self.bn3 = nn.BatchNorm2d(out_channels * self.expansion)\n",
    "        \n",
    "        self.relu = nn.ReLU(inplace=True)\n",
    "        self.downsample = downsample\n",
    "    \n",
    "    def forward(self, x):\n",
    "        identity = x\n",
    "        \n",
    "        # 第一个1x1卷积\n",
    "        out = self.conv1(x)\n",
    "        out = self.bn1(out)\n",
    "        out = self.relu(out)\n",
    "        \n",
    "        # 3x3卷积\n",
    "        out = self.conv2(out)\n",
    "        out = self.bn2(out)\n",
    "        out = self.relu(out)\n",
    "        \n",
    "        # 第二个1x1卷积\n",
    "        out = self.conv3(out)\n",
    "        out = self.bn3(out)\n",
    "        \n",
    "        # 下采样（如果需要）\n",
    "        if self.downsample is not None:\n",
    "            identity = self.downsample(x)\n",
    "        \n",
    "        # 残差连接\n",
    "        out += identity\n",
    "        out = self.relu(out)\n",
    "        \n",
    "        return out"
   ]
  },
  {
   "cell_type": "markdown",
   "id": "e808bf06-57ce-4827-bc12-35a830e3e15c",
   "metadata": {
    "jp-MarkdownHeadingCollapsed": true
   },
   "source": [
    "## 4.完整的ResNet模型构建"
   ]
  },
  {
   "cell_type": "code",
   "execution_count": 4,
   "id": "b2ea8056-1e09-4a51-8da4-d1e75c0cc3a3",
   "metadata": {},
   "outputs": [],
   "source": [
    "# 初始化卷积层 + 池化层\n",
    "# 多个残差块组成的阶段\n",
    "# 全局平均池化 + 全连接层\n",
    "class ResNet(nn.Module):\n",
    "    def __init__(self, block, layers, num_classes=1000):\n",
    "        super(ResNet, self).__init__()\n",
    "        self.in_channels = 64  # 初始输入通道数\n",
    "        \n",
    "        # 初始卷积层\n",
    "        self.conv1 = nn.Conv2d(\n",
    "            3, self.in_channels, kernel_size=7, stride=2, \n",
    "            padding=3, bias=False\n",
    "        )\n",
    "        self.bn1 = nn.BatchNorm2d(self.in_channels)\n",
    "        self.relu = nn.ReLU(inplace=True)\n",
    "        \n",
    "        # 初始池化层\n",
    "        self.maxpool = nn.MaxPool2d(kernel_size=3, stride=2, padding=1)\n",
    "        \n",
    "        # 残差块阶段\n",
    "        self.layer1 = self._make_layer(block, 64, layers[0])\n",
    "        self.layer2 = self._make_layer(block, 128, layers[1], stride=2)\n",
    "        self.layer3 = self._make_layer(block, 256, layers[2], stride=2)\n",
    "        self.layer4 = self._make_layer(block, 512, layers[3], stride=2)\n",
    "        \n",
    "        # 全局平均池化\n",
    "        self.avgpool = nn.AdaptiveAvgPool2d((1, 1))\n",
    "        \n",
    "        # 全连接层\n",
    "        self.fc = nn.Linear(512 * block.expansion, num_classes)\n",
    "        \n",
    "        # 初始化权重\n",
    "        for m in self.modules():\n",
    "            if isinstance(m, nn.Conv2d):\n",
    "                nn.init.kaiming_normal_(m.weight, mode='fan_out', nonlinearity='relu')\n",
    "            elif isinstance(m, nn.BatchNorm2d):\n",
    "                nn.init.constant_(m.weight, 1)\n",
    "                nn.init.constant_(m.bias, 0)\n",
    "    \n",
    "    def _make_layer(self, block, out_channels, blocks, stride=1):\n",
    "        \"\"\"构建由多个残差块组成的层\"\"\"\n",
    "        downsample = None\n",
    "        \n",
    "        # 如果步长不为1或输入输出通道数不匹配，需要下采样\n",
    "        if stride != 1 or self.in_channels != out_channels * block.expansion:\n",
    "            downsample = nn.Sequential(\n",
    "                nn.Conv2d(\n",
    "                    self.in_channels, out_channels * block.expansion,\n",
    "                    kernel_size=1, stride=stride, bias=False\n",
    "                ),\n",
    "                nn.BatchNorm2d(out_channels * block.expansion),\n",
    "            )\n",
    "        \n",
    "        layers = []\n",
    "        # 添加第一个残差块（可能需要下采样）\n",
    "        layers.append(block(self.in_channels, out_channels, stride, downsample))\n",
    "        self.in_channels = out_channels * block.expansion\n",
    "        \n",
    "        # 添加剩余的残差块\n",
    "        for _ in range(1, blocks):\n",
    "            layers.append(block(self.in_channels, out_channels))\n",
    "        \n",
    "        return nn.Sequential(*layers)\n",
    "    \n",
    "    def forward(self, x):\n",
    "        # 初始卷积和池化\n",
    "        x = self.conv1(x)\n",
    "        x = self.bn1(x)\n",
    "        x = self.relu(x)\n",
    "        x = self.maxpool(x)\n",
    "        \n",
    "        # 残差块阶段\n",
    "        x = self.layer1(x)\n",
    "        x = self.layer2(x)\n",
    "        x = self.layer3(x)\n",
    "        x = self.layer4(x)\n",
    "        \n",
    "        # 全局平均池化和全连接层\n",
    "        x = self.avgpool(x)\n",
    "        x = torch.flatten(x, 1)\n",
    "        x = self.fc(x)\n",
    "        \n",
    "        return x"
   ]
  },
  {
   "cell_type": "markdown",
   "id": "284755d0-561f-407c-ba74-46d984b5a8de",
   "metadata": {
    "jp-MarkdownHeadingCollapsed": true
   },
   "source": [
    "## 5.定义不同深度的ResNet模型"
   ]
  },
  {
   "cell_type": "code",
   "execution_count": 5,
   "id": "6c32e44c-06ae-4be4-93a2-92126d81571a",
   "metadata": {},
   "outputs": [],
   "source": [
    "def resnet18(num_classes=1000):\n",
    "    \"\"\"构建ResNet-18模型\"\"\"\n",
    "    return ResNet(BasicBlock, [2, 2, 2, 2], num_classes)\n",
    "\n",
    "def resnet34(num_classes=1000):\n",
    "    \"\"\"构建ResNet-34模型\"\"\"\n",
    "    return ResNet(BasicBlock, [3, 4, 6, 3], num_classes)\n",
    "\n",
    "def resnet50(num_classes=1000):\n",
    "    \"\"\"构建ResNet-50模型\"\"\"\n",
    "    return ResNet(Bottleneck, [3, 4, 6, 3], num_classes)\n",
    "\n",
    "def resnet101(num_classes=1000):\n",
    "    \"\"\"构建ResNet-101模型\"\"\"\n",
    "    return ResNet(Bottleneck, [3, 4, 23, 3], num_classes)\n",
    "\n",
    "def resnet152(num_classes=1000):\n",
    "    \"\"\"构建ResNet-152模型\"\"\"\n",
    "    return ResNet(Bottleneck, [3, 8, 36, 3], num_classes)"
   ]
  },
  {
   "cell_type": "markdown",
   "id": "dba85fef-5a93-4587-bf4c-abd580cb1956",
   "metadata": {
    "jp-MarkdownHeadingCollapsed": true
   },
   "source": [
    "## 6.模型测试与参数估计"
   ]
  },
  {
   "cell_type": "code",
   "execution_count": 6,
   "id": "ff9f9830-e249-4891-b3f5-786bf9dfdb8f",
   "metadata": {},
   "outputs": [
    {
     "name": "stdout",
     "output_type": "stream",
     "text": [
      "ResNet-18 参数数量: 11,689,512\n",
      "ResNet-50 参数数量: 25,557,032\n",
      "ResNet-18 输出形状: torch.Size([2, 1000])\n",
      "ResNet-50 输出形状: torch.Size([2, 1000])\n"
     ]
    }
   ],
   "source": [
    "def count_parameters(model):\n",
    "    \"\"\"统计模型参数数量\"\"\"\n",
    "    return sum(p.numel() for p in model.parameters() if p.requires_grad)\n",
    "\n",
    "# 测试ResNet-18\n",
    "model_res18 = resnet18().to(device)\n",
    "print(f\"ResNet-18 参数数量: {count_parameters(model_res18):,}\")\n",
    "\n",
    "# 测试ResNet-50\n",
    "model_res50 = resnet50().to(device)\n",
    "print(f\"ResNet-50 参数数量: {count_parameters(model_res50):,}\")\n",
    "\n",
    "# 测试前向传播\n",
    "x = torch.randn(2, 3, 224, 224).to(device)  # 模拟2张224x224的RGB图像\n",
    "output_res18 = model_res18(x)\n",
    "output_res50 = model_res50(x)\n",
    "print(f\"ResNet-18 输出形状: {output_res18.shape}\")\n",
    "print(f\"ResNet-50 输出形状: {output_res50.shape}\")"
   ]
  },
  {
   "cell_type": "markdown",
   "id": "acc2dd32-f1ae-4c4a-bbb3-ddc94975fdf1",
   "metadata": {
    "jp-MarkdownHeadingCollapsed": true
   },
   "source": [
    "## 7.在CIFAR-10数据集上训练ResNet\n"
   ]
  },
  {
   "cell_type": "markdown",
   "id": "0b309d80-8477-4948-9e47-cf1ca6af12cf",
   "metadata": {},
   "source": [
    "为了验证模型效果，我们在 CIFAR-10 数据集上进行简单训练。由于我电脑不行,计算资源限制，因此我使用较小的 ResNet-18 模型，并调整输入尺寸"
   ]
  },
  {
   "cell_type": "code",
   "execution_count": 7,
   "id": "c3353c7a-5de4-4eb8-beb7-c2f837b5993c",
   "metadata": {},
   "outputs": [
    {
     "name": "stdout",
     "output_type": "stream",
     "text": [
      "Downloading https://www.cs.toronto.edu/~kriz/cifar-10-python.tar.gz to ./data\\cifar-10-python.tar.gz\n"
     ]
    },
    {
     "name": "stderr",
     "output_type": "stream",
     "text": [
      "100%|██████████| 170M/170M [05:24<00:00, 526kB/s]  \n"
     ]
    },
    {
     "name": "stdout",
     "output_type": "stream",
     "text": [
      "Extracting ./data\\cifar-10-python.tar.gz to ./data\n",
      "Files already downloaded and verified\n"
     ]
    }
   ],
   "source": [
    "# 数据预处理\n",
    "transform_train = transforms.Compose([\n",
    "    transforms.RandomCrop(32, padding=4),\n",
    "    transforms.RandomHorizontalFlip(),\n",
    "    transforms.ToTensor(),\n",
    "    transforms.Normalize((0.4914, 0.4822, 0.4465), (0.2023, 0.1994, 0.2010)),\n",
    "])\n",
    "\n",
    "transform_test = transforms.Compose([\n",
    "    transforms.ToTensor(),\n",
    "    transforms.Normalize((0.4914, 0.4822, 0.4465), (0.2023, 0.1994, 0.2010)),\n",
    "])\n",
    "\n",
    "# 加载CIFAR-10数据集\n",
    "trainset = datasets.CIFAR10(\n",
    "    root='./data', train=True, download=True, transform=transform_train\n",
    ")\n",
    "trainloader = DataLoader(\n",
    "    trainset, batch_size=128, shuffle=True, num_workers=2\n",
    ")\n",
    "\n",
    "testset = datasets.CIFAR10(\n",
    "    root='./data', train=False, download=True, transform=transform_test\n",
    ")\n",
    "testloader = DataLoader(\n",
    "    testset, batch_size=100, shuffle=False, num_workers=2\n",
    ")\n",
    "\n",
    "classes = ('plane', 'car', 'bird', 'cat', 'deer', \n",
    "           'dog', 'frog', 'horse', 'ship', 'truck')"
   ]
  },
  {
   "cell_type": "code",
   "execution_count": 8,
   "id": "146f7b96-d6a7-400b-b6ff-c24a18db473a",
   "metadata": {},
   "outputs": [],
   "source": [
    "#调整 ResNet-18 以适应 CIFAR-10 的输入尺寸 (32x32)\n",
    "class ResNetCIFAR(nn.Module):\n",
    "    def __init__(self, block, layers, num_classes=10):\n",
    "        super(ResNetCIFAR, self).__init__()\n",
    "        self.in_channels = 64\n",
    "        \n",
    "        # 对于CIFAR-10，使用3x3卷积替代7x7卷积，取消初始的maxpool\n",
    "        self.conv1 = nn.Conv2d(\n",
    "            3, self.in_channels, kernel_size=3, stride=1, \n",
    "            padding=1, bias=False\n",
    "        )\n",
    "        self.bn1 = nn.BatchNorm2d(self.in_channels)\n",
    "        self.relu = nn.ReLU(inplace=True)\n",
    "        \n",
    "        # 残差块阶段\n",
    "        self.layer1 = self._make_layer(block, 64, layers[0])\n",
    "        self.layer2 = self._make_layer(block, 128, layers[1], stride=2)\n",
    "        self.layer3 = self._make_layer(block, 256, layers[2], stride=2)\n",
    "        self.layer4 = self._make_layer(block, 512, layers[3], stride=2)\n",
    "        \n",
    "        # 全局平均池化\n",
    "        self.avgpool = nn.AdaptiveAvgPool2d((1, 1))\n",
    "        \n",
    "        # 全连接层\n",
    "        self.fc = nn.Linear(512 * block.expansion, num_classes)\n",
    "        \n",
    "        # 初始化权重\n",
    "        for m in self.modules():\n",
    "            if isinstance(m, nn.Conv2d):\n",
    "                nn.init.kaiming_normal_(m.weight, mode='fan_out', nonlinearity='relu')\n",
    "            elif isinstance(m, nn.BatchNorm2d):\n",
    "                nn.init.constant_(m.weight, 1)\n",
    "                nn.init.constant_(m.bias, 0)\n",
    "    \n",
    "    def _make_layer(self, block, out_channels, blocks, stride=1):\n",
    "        downsample = None\n",
    "        \n",
    "        if stride != 1 or self.in_channels != out_channels * block.expansion:\n",
    "            downsample = nn.Sequential(\n",
    "                nn.Conv2d(\n",
    "                    self.in_channels, out_channels * block.expansion,\n",
    "                    kernel_size=1, stride=stride, bias=False\n",
    "                ),\n",
    "                nn.BatchNorm2d(out_channels * block.expansion),\n",
    "            )\n",
    "        \n",
    "        layers = []\n",
    "        layers.append(block(self.in_channels, out_channels, stride, downsample))\n",
    "        self.in_channels = out_channels * block.expansion\n",
    "        \n",
    "        for _ in range(1, blocks):\n",
    "            layers.append(block(self.in_channels, out_channels))\n",
    "        \n",
    "        return nn.Sequential(*layers)\n",
    "    \n",
    "    def forward(self, x):\n",
    "        x = self.conv1(x)\n",
    "        x = self.bn1(x)\n",
    "        x = self.relu(x)\n",
    "        \n",
    "        x = self.layer1(x)\n",
    "        x = self.layer2(x)\n",
    "        x = self.layer3(x)\n",
    "        x = self.layer4(x)\n",
    "        \n",
    "        x = self.avgpool(x)\n",
    "        x = torch.flatten(x, 1)\n",
    "        x = self.fc(x)\n",
    "        \n",
    "        return x\n",
    "\n",
    "def resnet18_cifar(num_classes=10):\n",
    "    return ResNetCIFAR(BasicBlock, [2, 2, 2, 2], num_classes)"
   ]
  },
  {
   "cell_type": "code",
   "execution_count": 9,
   "id": "c3740ac3-f835-4ab7-8fa0-2b6e27e4371f",
   "metadata": {},
   "outputs": [],
   "source": [
    "#训练函数定义\n",
    "def train_model(model, trainloader, testloader, criterion, optimizer, num_epochs=20):\n",
    "    \"\"\"训练模型并返回训练/测试准确率和损失\"\"\"\n",
    "    model.to(device)\n",
    "    \n",
    "    train_losses = []\n",
    "    train_accs = []\n",
    "    test_losses = []\n",
    "    test_accs = []\n",
    "    \n",
    "    for epoch in range(num_epochs):\n",
    "        start_time = time.time()\n",
    "        \n",
    "        # 训练阶段\n",
    "        model.train()\n",
    "        train_running_loss = 0.0\n",
    "        correct = 0\n",
    "        total = 0\n",
    "        \n",
    "        for i, data in enumerate(trainloader, 0):\n",
    "            inputs, labels = data[0].to(device), data[1].to(device)\n",
    "            \n",
    "            # 清零梯度\n",
    "            optimizer.zero_grad()\n",
    "            \n",
    "            # 前向传播、计算损失、反向传播、参数更新\n",
    "            outputs = model(inputs)\n",
    "            loss = criterion(outputs, labels)\n",
    "            loss.backward()\n",
    "            optimizer.step()\n",
    "            \n",
    "            # 统计训练数据\n",
    "            train_running_loss += loss.item()\n",
    "            _, predicted = torch.max(outputs.data, 1)\n",
    "            total += labels.size(0)\n",
    "            correct += (predicted == labels).sum().item()\n",
    "            \n",
    "            # 每100个批次打印一次信息\n",
    "            if i % 100 == 99:\n",
    "                print(f'[{epoch + 1}, {i + 1}] loss: {train_running_loss / 100:.3f}')\n",
    "                train_running_loss = 0.0\n",
    "        \n",
    "        # 计算训练集准确率和平均损失\n",
    "        train_acc = 100 * correct / total\n",
    "        train_loss = train_running_loss / len(trainloader)\n",
    "        train_accs.append(train_acc)\n",
    "        train_losses.append(train_loss)\n",
    "        \n",
    "        # 测试阶段\n",
    "        model.eval()\n",
    "        test_running_loss = 0.0\n",
    "        correct = 0\n",
    "        total = 0\n",
    "        \n",
    "        with torch.no_grad():  # 不计算梯度，节省内存\n",
    "            for data in testloader:\n",
    "                images, labels = data[0].to(device), data[1].to(device)\n",
    "                outputs = model(images)\n",
    "                loss = criterion(outputs, labels)\n",
    "                test_running_loss += loss.item()\n",
    "                \n",
    "                _, predicted = torch.max(outputs.data, 1)\n",
    "                total += labels.size(0)\n",
    "                correct += (predicted == labels).sum().item()\n",
    "        \n",
    "        # 计算测试集准确率和平均损失\n",
    "        test_acc = 100 * correct / total\n",
    "        test_loss = test_running_loss / len(testloader)\n",
    "        test_accs.append(test_acc)\n",
    "        test_losses.append(test_loss)\n",
    "        \n",
    "        epoch_time = time.time() - start_time\n",
    "        print(f'Epoch {epoch+1} - 时间: {epoch_time:.2f}s')\n",
    "        print(f'训练准确率: {train_acc:.2f}%，损失: {train_loss:.4f}')\n",
    "        print(f'测试准确率: {test_acc:.2f}%，损失: {test_loss:.4f}\\n')\n",
    "    \n",
    "    print('训练完成')\n",
    "    return train_losses, train_accs, test_losses, test_accs"
   ]
  },
  {
   "cell_type": "markdown",
   "id": "a234992d-20bf-416a-afe5-b0d79e9d1047",
   "metadata": {},
   "source": [
    "开始训练"
   ]
  },
  {
   "cell_type": "code",
   "execution_count": 10,
   "id": "44dc521e-1cb4-41d8-862c-83b76c07c57a",
   "metadata": {},
   "outputs": [
    {
     "name": "stdout",
     "output_type": "stream",
     "text": [
      "[1, 100] loss: 2.629\n",
      "[1, 200] loss: 1.894\n",
      "[1, 300] loss: 1.752\n",
      "Epoch 1 - 时间: 618.22s\n",
      "训练准确率: 29.73%，损失: 0.3794\n",
      "测试准确率: 39.02%，损失: 1.6357\n",
      "\n",
      "[2, 100] loss: 1.566\n",
      "[2, 200] loss: 1.460\n",
      "[2, 300] loss: 1.395\n",
      "Epoch 2 - 时间: 632.20s\n",
      "训练准确率: 47.38%，损失: 0.2997\n",
      "测试准确率: 48.49%，损失: 1.4638\n",
      "\n",
      "[3, 100] loss: 1.219\n",
      "[3, 200] loss: 1.115\n",
      "[3, 300] loss: 1.077\n",
      "Epoch 3 - 时间: 621.73s\n",
      "训练准确率: 60.26%，损失: 0.2369\n",
      "测试准确率: 64.32%，损失: 1.0117\n",
      "\n",
      "[4, 100] loss: 0.951\n",
      "[4, 200] loss: 0.915\n",
      "[4, 300] loss: 0.895\n",
      "Epoch 4 - 时间: 615.95s\n",
      "训练准确率: 68.11%，损失: 0.1983\n",
      "测试准确率: 68.78%，损失: 0.8819\n",
      "\n",
      "[5, 100] loss: 0.795\n",
      "[5, 200] loss: 0.758\n",
      "[5, 300] loss: 0.736\n",
      "Epoch 5 - 时间: 624.70s\n",
      "训练准确率: 74.03%，损失: 0.1597\n",
      "测试准确率: 72.87%，损失: 0.8120\n",
      "\n",
      "[6, 100] loss: 0.662\n",
      "[6, 200] loss: 0.643\n",
      "[6, 300] loss: 0.641\n",
      "Epoch 6 - 时间: 625.01s\n",
      "训练准确率: 77.91%，损失: 0.1480\n",
      "测试准确率: 70.02%，损失: 0.9278\n",
      "\n",
      "[7, 100] loss: 0.596\n",
      "[7, 200] loss: 0.595\n",
      "[7, 300] loss: 0.587\n",
      "Epoch 7 - 时间: 624.36s\n",
      "训练准确率: 79.70%，损失: 0.1347\n",
      "测试准确率: 72.75%，损失: 0.8631\n",
      "\n",
      "[8, 100] loss: 0.534\n",
      "[8, 200] loss: 0.555\n",
      "[8, 300] loss: 0.542\n",
      "Epoch 8 - 时间: 623.74s\n",
      "训练准确率: 81.21%，损失: 0.1268\n",
      "测试准确率: 79.20%，损失: 0.6164\n",
      "\n",
      "[9, 100] loss: 0.515\n",
      "[9, 200] loss: 0.529\n",
      "[9, 300] loss: 0.534\n",
      "Epoch 9 - 时间: 627.87s\n",
      "训练准确率: 82.08%，损失: 0.1183\n",
      "测试准确率: 78.57%，损失: 0.6425\n",
      "\n",
      "[10, 100] loss: 0.491\n",
      "[10, 200] loss: 0.504\n",
      "[10, 300] loss: 0.504\n",
      "Epoch 10 - 时间: 641.82s\n",
      "训练准确率: 82.87%，损失: 0.1128\n",
      "测试准确率: 79.61%，损失: 0.6114\n",
      "\n",
      "训练完成\n"
     ]
    }
   ],
   "source": [
    "# 初始化模型、损失函数和优化器\n",
    "model = resnet18_cifar()\n",
    "criterion = nn.CrossEntropyLoss()\n",
    "optimizer = optim.SGD(model.parameters(), lr=0.1, momentum=0.9, weight_decay=5e-4)\n",
    "scheduler = optim.lr_scheduler.MultiStepLR(optimizer, milestones=[10, 20], gamma=0.1)\n",
    "\n",
    "# 训练模型（这里我们只训练少量epoch作为演示）\n",
    "num_epochs = 10\n",
    "train_losses, train_accs, test_losses, test_accs = train_model(\n",
    "    model, trainloader, testloader, criterion, optimizer, num_epochs\n",
    ")"
   ]
  },
  {
   "cell_type": "markdown",
   "id": "181217fe-f597-407a-8cf4-c6cab93bb8de",
   "metadata": {
    "jp-MarkdownHeadingCollapsed": true
   },
   "source": [
    "## 8.训练结果可视化"
   ]
  },
  {
   "cell_type": "code",
   "execution_count": 12,
   "id": "6a6c51a0-34a1-404e-abf4-fbe0b1f3b4d0",
   "metadata": {},
   "outputs": [
    {
     "data": {
      "image/png": "[encoded data removed]",
      "text/plain": [
       "<Figure size 1200x400 with 2 Axes>"
      ]
     },
     "metadata": {},
     "output_type": "display_data"
    }
   ],
   "source": [
    "# 绘制损失曲线\n",
    "plt.rcParams['font.family'] = ['SimHei'] #设置中文字体\n",
    "plt.rcParams['axes.unicode_minus'] = False #设置负号显示\n",
    "plt.figure(figsize=(12, 4))\n",
    "plt.subplot(1, 2, 1)\n",
    "plt.plot(range(1, num_epochs+1), train_losses, label='训练损失')\n",
    "plt.plot(range(1, num_epochs+1), test_losses, label='测试损失')\n",
    "plt.title('损失曲线')\n",
    "plt.xlabel('Epoch')\n",
    "plt.ylabel('Loss')\n",
    "plt.legend()\n",
    "\n",
    "# 绘制准确率曲线\n",
    "plt.subplot(1, 2, 2)\n",
    "plt.plot(range(1, num_epochs+1), train_accs, label='训练准确率')\n",
    "plt.plot(range(1, num_epochs+1), test_accs, label='测试准确率')\n",
    "plt.title('准确率曲线')\n",
    "plt.xlabel('Epoch')\n",
    "plt.ylabel('准确率 (%)')\n",
    "plt.legend()\n",
    "\n",
    "plt.tight_layout()\n",
    "plt.show()"
   ]
  },
  {
   "cell_type": "markdown",
   "id": "b8dfb977-4543-4ed6-9f72-79d5a6251983",
   "metadata": {
    "jp-MarkdownHeadingCollapsed": true
   },
   "source": [
    "## 9.ResNet论文的核心贡献"
   ]
  },
  {
   "cell_type": "markdown",
   "id": "eb6ef6b7-5e5e-4c50-a4ee-7524566357f8",
   "metadata": {},
   "source": [
    "1.残差学习：提出了残差块结构，通过学习残差函数\\(F(x) = H(x) - x，使深层网络更容易训练。  \n",
    "\n",
    "2.解决退化问题：随着网络深度增加，传统网络会出现性能退化（准确率饱和后迅速下降），ResNet 通过残差连接有效解决了这一问题。  \n",
    "\n",
    "3.恒等映射 shortcut：论文比较了不同的 shortcut 连接方式，发现简单的恒等映射（当维度匹配时）效果最好，计算量也最小。  \n",
    "\n",
    "4.深度可扩展性：ResNet 可以轻松扩展到非常深的网络（如 152 层），且性能随深度增加而提升。  \n",
    "\n",
    "5.批归一化：在每个卷积层后使用批归一化，加速训练并减少过拟合。  \n"
   ]
  },
  {
   "cell_type": "code",
   "execution_count": null,
   "id": "57062c2a-a548-4067-90ad-fde90b0f6b6c",
   "metadata": {},
   "outputs": [],
   "source": []
  }
 ],
 "metadata": {
  "kernelspec": {
   "display_name": "Python (financial-ml)",
   "language": "python",
   "name": "financial-ml"
  },
  "language_info": {
   "codemirror_mode": {
    "name": "ipython",
    "version": 3
   },
   "file_extension": ".py",
   "mimetype": "text/x-python",
   "name": "python",
   "nbconvert_exporter": "python",
   "pygments_lexer": "ipython3",
   "version": "3.9.23"
  }
 },
 "nbformat": 4,
 "nbformat_minor": 5
}
